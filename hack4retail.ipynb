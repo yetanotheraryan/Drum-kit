{
  "nbformat": 4,
  "nbformat_minor": 0,
  "metadata": {
    "colab": {
      "name": "hack4retail.ipynb",
      "provenance": [],
      "collapsed_sections": [],
      "include_colab_link": true
    },
    "kernelspec": {
      "name": "python3",
      "display_name": "Python 3"
    },
    "language_info": {
      "name": "python"
    }
  },
  "cells": [
    {
      "cell_type": "markdown",
      "metadata": {
        "id": "view-in-github",
        "colab_type": "text"
      },
      "source": [
        "<a href=\"https://colab.research.google.com/github/Aryan-Tiwari/Drum-kit/blob/main/hack4retail.ipynb\" target=\"_parent\"><img src=\"https://colab.research.google.com/assets/colab-badge.svg\" alt=\"Open In Colab\"/></a>"
      ]
    },
    {
      "cell_type": "code",
      "metadata": {
        "id": "7OYpk0ZO07CN"
      },
      "source": [
        "import pandas as pd\n",
        "import numpy as np\n",
        "import matplotlib.pyplot as plt\n",
        "import seaborn as sns"
      ],
      "execution_count": null,
      "outputs": []
    },
    {
      "cell_type": "code",
      "metadata": {
        "id": "tAHcr5Gx1KF9"
      },
      "source": [
        "sku_df = pd.read_csv(\"/content/sku_final.csv\")\n",
        "train_df = pd.read_csv(\"/content/train_final.csv\")\n",
        "geo_df = pd.read_csv(\"/content/geo_params.csv\")"
      ],
      "execution_count": null,
      "outputs": []
    },
    {
      "cell_type": "code",
      "metadata": {
        "colab": {
          "base_uri": "https://localhost:8080/",
          "height": 1000
        },
        "id": "Y087rru_5fIT",
        "outputId": "5625fd4d-9d50-4a65-863e-0b9cbeb3f5ff"
      },
      "source": [
        "sample_final = pd.read_csv(\"/content/sample_final.csv\")\n",
        "sample_final.head(50)"
      ],
      "execution_count": null,
      "outputs": [
        {
          "output_type": "execute_result",
          "data": {
            "text/html": [
              "<div>\n",
              "<style scoped>\n",
              "    .dataframe tbody tr th:only-of-type {\n",
              "        vertical-align: middle;\n",
              "    }\n",
              "\n",
              "    .dataframe tbody tr th {\n",
              "        vertical-align: top;\n",
              "    }\n",
              "\n",
              "    .dataframe thead th {\n",
              "        text-align: right;\n",
              "    }\n",
              "</style>\n",
              "<table border=\"1\" class=\"dataframe\">\n",
              "  <thead>\n",
              "    <tr style=\"text-align: right;\">\n",
              "      <th></th>\n",
              "      <th>ID</th>\n",
              "      <th>sales</th>\n",
              "    </tr>\n",
              "  </thead>\n",
              "  <tbody>\n",
              "    <tr>\n",
              "      <th>0</th>\n",
              "      <td>RR1666030</td>\n",
              "      <td>0</td>\n",
              "    </tr>\n",
              "    <tr>\n",
              "      <th>1</th>\n",
              "      <td>RR1666031</td>\n",
              "      <td>0</td>\n",
              "    </tr>\n",
              "    <tr>\n",
              "      <th>2</th>\n",
              "      <td>RR1666032</td>\n",
              "      <td>0</td>\n",
              "    </tr>\n",
              "    <tr>\n",
              "      <th>3</th>\n",
              "      <td>RR1666033</td>\n",
              "      <td>0</td>\n",
              "    </tr>\n",
              "    <tr>\n",
              "      <th>4</th>\n",
              "      <td>RR1666034</td>\n",
              "      <td>0</td>\n",
              "    </tr>\n",
              "    <tr>\n",
              "      <th>5</th>\n",
              "      <td>RR1666035</td>\n",
              "      <td>0</td>\n",
              "    </tr>\n",
              "    <tr>\n",
              "      <th>6</th>\n",
              "      <td>RR1666036</td>\n",
              "      <td>0</td>\n",
              "    </tr>\n",
              "    <tr>\n",
              "      <th>7</th>\n",
              "      <td>RR1666037</td>\n",
              "      <td>0</td>\n",
              "    </tr>\n",
              "    <tr>\n",
              "      <th>8</th>\n",
              "      <td>RR1666038</td>\n",
              "      <td>0</td>\n",
              "    </tr>\n",
              "    <tr>\n",
              "      <th>9</th>\n",
              "      <td>RR1666039</td>\n",
              "      <td>0</td>\n",
              "    </tr>\n",
              "    <tr>\n",
              "      <th>10</th>\n",
              "      <td>RR1666040</td>\n",
              "      <td>0</td>\n",
              "    </tr>\n",
              "    <tr>\n",
              "      <th>11</th>\n",
              "      <td>RR1666041</td>\n",
              "      <td>0</td>\n",
              "    </tr>\n",
              "    <tr>\n",
              "      <th>12</th>\n",
              "      <td>RR1666042</td>\n",
              "      <td>0</td>\n",
              "    </tr>\n",
              "    <tr>\n",
              "      <th>13</th>\n",
              "      <td>RR1666043</td>\n",
              "      <td>0</td>\n",
              "    </tr>\n",
              "    <tr>\n",
              "      <th>14</th>\n",
              "      <td>RR1666044</td>\n",
              "      <td>0</td>\n",
              "    </tr>\n",
              "    <tr>\n",
              "      <th>15</th>\n",
              "      <td>RR1666045</td>\n",
              "      <td>0</td>\n",
              "    </tr>\n",
              "    <tr>\n",
              "      <th>16</th>\n",
              "      <td>RR1666046</td>\n",
              "      <td>0</td>\n",
              "    </tr>\n",
              "    <tr>\n",
              "      <th>17</th>\n",
              "      <td>RR1666047</td>\n",
              "      <td>0</td>\n",
              "    </tr>\n",
              "    <tr>\n",
              "      <th>18</th>\n",
              "      <td>RR1666048</td>\n",
              "      <td>0</td>\n",
              "    </tr>\n",
              "    <tr>\n",
              "      <th>19</th>\n",
              "      <td>RR1666049</td>\n",
              "      <td>0</td>\n",
              "    </tr>\n",
              "    <tr>\n",
              "      <th>20</th>\n",
              "      <td>RR1666050</td>\n",
              "      <td>0</td>\n",
              "    </tr>\n",
              "    <tr>\n",
              "      <th>21</th>\n",
              "      <td>RR1666051</td>\n",
              "      <td>0</td>\n",
              "    </tr>\n",
              "    <tr>\n",
              "      <th>22</th>\n",
              "      <td>RR1666052</td>\n",
              "      <td>0</td>\n",
              "    </tr>\n",
              "    <tr>\n",
              "      <th>23</th>\n",
              "      <td>RR1666053</td>\n",
              "      <td>0</td>\n",
              "    </tr>\n",
              "    <tr>\n",
              "      <th>24</th>\n",
              "      <td>RR1666054</td>\n",
              "      <td>0</td>\n",
              "    </tr>\n",
              "    <tr>\n",
              "      <th>25</th>\n",
              "      <td>RR1666055</td>\n",
              "      <td>0</td>\n",
              "    </tr>\n",
              "    <tr>\n",
              "      <th>26</th>\n",
              "      <td>RR1666056</td>\n",
              "      <td>0</td>\n",
              "    </tr>\n",
              "    <tr>\n",
              "      <th>27</th>\n",
              "      <td>RR1666057</td>\n",
              "      <td>0</td>\n",
              "    </tr>\n",
              "    <tr>\n",
              "      <th>28</th>\n",
              "      <td>RR1666058</td>\n",
              "      <td>0</td>\n",
              "    </tr>\n",
              "    <tr>\n",
              "      <th>29</th>\n",
              "      <td>RR1666059</td>\n",
              "      <td>0</td>\n",
              "    </tr>\n",
              "    <tr>\n",
              "      <th>30</th>\n",
              "      <td>RR1666060</td>\n",
              "      <td>0</td>\n",
              "    </tr>\n",
              "    <tr>\n",
              "      <th>31</th>\n",
              "      <td>RR1666061</td>\n",
              "      <td>0</td>\n",
              "    </tr>\n",
              "    <tr>\n",
              "      <th>32</th>\n",
              "      <td>RR1666062</td>\n",
              "      <td>0</td>\n",
              "    </tr>\n",
              "    <tr>\n",
              "      <th>33</th>\n",
              "      <td>RR1666063</td>\n",
              "      <td>0</td>\n",
              "    </tr>\n",
              "    <tr>\n",
              "      <th>34</th>\n",
              "      <td>RR1666064</td>\n",
              "      <td>0</td>\n",
              "    </tr>\n",
              "    <tr>\n",
              "      <th>35</th>\n",
              "      <td>RR1666065</td>\n",
              "      <td>0</td>\n",
              "    </tr>\n",
              "    <tr>\n",
              "      <th>36</th>\n",
              "      <td>RR1666066</td>\n",
              "      <td>0</td>\n",
              "    </tr>\n",
              "    <tr>\n",
              "      <th>37</th>\n",
              "      <td>RR1666067</td>\n",
              "      <td>0</td>\n",
              "    </tr>\n",
              "    <tr>\n",
              "      <th>38</th>\n",
              "      <td>RR1666068</td>\n",
              "      <td>0</td>\n",
              "    </tr>\n",
              "    <tr>\n",
              "      <th>39</th>\n",
              "      <td>RR1666069</td>\n",
              "      <td>0</td>\n",
              "    </tr>\n",
              "    <tr>\n",
              "      <th>40</th>\n",
              "      <td>RR1666070</td>\n",
              "      <td>0</td>\n",
              "    </tr>\n",
              "    <tr>\n",
              "      <th>41</th>\n",
              "      <td>RR1666071</td>\n",
              "      <td>0</td>\n",
              "    </tr>\n",
              "    <tr>\n",
              "      <th>42</th>\n",
              "      <td>RR1666072</td>\n",
              "      <td>0</td>\n",
              "    </tr>\n",
              "    <tr>\n",
              "      <th>43</th>\n",
              "      <td>RR1666073</td>\n",
              "      <td>0</td>\n",
              "    </tr>\n",
              "    <tr>\n",
              "      <th>44</th>\n",
              "      <td>RR1666074</td>\n",
              "      <td>0</td>\n",
              "    </tr>\n",
              "    <tr>\n",
              "      <th>45</th>\n",
              "      <td>RR1666075</td>\n",
              "      <td>0</td>\n",
              "    </tr>\n",
              "    <tr>\n",
              "      <th>46</th>\n",
              "      <td>RR1666076</td>\n",
              "      <td>0</td>\n",
              "    </tr>\n",
              "    <tr>\n",
              "      <th>47</th>\n",
              "      <td>RR1666077</td>\n",
              "      <td>0</td>\n",
              "    </tr>\n",
              "    <tr>\n",
              "      <th>48</th>\n",
              "      <td>RR1666078</td>\n",
              "      <td>0</td>\n",
              "    </tr>\n",
              "    <tr>\n",
              "      <th>49</th>\n",
              "      <td>RR1666079</td>\n",
              "      <td>0</td>\n",
              "    </tr>\n",
              "  </tbody>\n",
              "</table>\n",
              "</div>"
            ],
            "text/plain": [
              "           ID  sales\n",
              "0   RR1666030      0\n",
              "1   RR1666031      0\n",
              "2   RR1666032      0\n",
              "3   RR1666033      0\n",
              "4   RR1666034      0\n",
              "5   RR1666035      0\n",
              "6   RR1666036      0\n",
              "7   RR1666037      0\n",
              "8   RR1666038      0\n",
              "9   RR1666039      0\n",
              "10  RR1666040      0\n",
              "11  RR1666041      0\n",
              "12  RR1666042      0\n",
              "13  RR1666043      0\n",
              "14  RR1666044      0\n",
              "15  RR1666045      0\n",
              "16  RR1666046      0\n",
              "17  RR1666047      0\n",
              "18  RR1666048      0\n",
              "19  RR1666049      0\n",
              "20  RR1666050      0\n",
              "21  RR1666051      0\n",
              "22  RR1666052      0\n",
              "23  RR1666053      0\n",
              "24  RR1666054      0\n",
              "25  RR1666055      0\n",
              "26  RR1666056      0\n",
              "27  RR1666057      0\n",
              "28  RR1666058      0\n",
              "29  RR1666059      0\n",
              "30  RR1666060      0\n",
              "31  RR1666061      0\n",
              "32  RR1666062      0\n",
              "33  RR1666063      0\n",
              "34  RR1666064      0\n",
              "35  RR1666065      0\n",
              "36  RR1666066      0\n",
              "37  RR1666067      0\n",
              "38  RR1666068      0\n",
              "39  RR1666069      0\n",
              "40  RR1666070      0\n",
              "41  RR1666071      0\n",
              "42  RR1666072      0\n",
              "43  RR1666073      0\n",
              "44  RR1666074      0\n",
              "45  RR1666075      0\n",
              "46  RR1666076      0\n",
              "47  RR1666077      0\n",
              "48  RR1666078      0\n",
              "49  RR1666079      0"
            ]
          },
          "metadata": {},
          "execution_count": 216
        }
      ]
    },
    {
      "cell_type": "code",
      "metadata": {
        "colab": {
          "base_uri": "https://localhost:8080/"
        },
        "id": "YUShr6pyFHVd",
        "outputId": "6f1c7cd0-276d-446d-e68d-6ba152f2214d"
      },
      "source": [
        "train_df.shape"
      ],
      "execution_count": null,
      "outputs": [
        {
          "output_type": "execute_result",
          "data": {
            "text/plain": [
              "(8231062, 6)"
            ]
          },
          "metadata": {},
          "execution_count": 22
        }
      ]
    },
    {
      "cell_type": "code",
      "metadata": {
        "id": "1nx5pPnw3aWt",
        "colab": {
          "base_uri": "https://localhost:8080/",
          "height": 204
        },
        "outputId": "c883b75a-afa5-4e9e-e780-75b2befa3c0c"
      },
      "source": [
        "df = train_df.merge(geo_df, on=\"geoCluster\")\n",
        "df.head()"
      ],
      "execution_count": null,
      "outputs": [
        {
          "output_type": "execute_result",
          "data": {
            "text/html": [
              "<div>\n",
              "<style scoped>\n",
              "    .dataframe tbody tr th:only-of-type {\n",
              "        vertical-align: middle;\n",
              "    }\n",
              "\n",
              "    .dataframe tbody tr th {\n",
              "        vertical-align: top;\n",
              "    }\n",
              "\n",
              "    .dataframe thead th {\n",
              "        text-align: right;\n",
              "    }\n",
              "</style>\n",
              "<table border=\"1\" class=\"dataframe\">\n",
              "  <thead>\n",
              "    <tr style=\"text-align: right;\">\n",
              "      <th></th>\n",
              "      <th>ID</th>\n",
              "      <th>geoCluster</th>\n",
              "      <th>SKU</th>\n",
              "      <th>date</th>\n",
              "      <th>price</th>\n",
              "      <th>sales</th>\n",
              "      <th>cityId</th>\n",
              "    </tr>\n",
              "  </thead>\n",
              "  <tbody>\n",
              "    <tr>\n",
              "      <th>0</th>\n",
              "      <td>RR27956447</td>\n",
              "      <td>21</td>\n",
              "      <td>32485</td>\n",
              "      <td>2021-07-08</td>\n",
              "      <td>39.69</td>\n",
              "      <td>0.9</td>\n",
              "      <td>1</td>\n",
              "    </tr>\n",
              "    <tr>\n",
              "      <th>1</th>\n",
              "      <td>RR27956448</td>\n",
              "      <td>21</td>\n",
              "      <td>32485</td>\n",
              "      <td>2021-07-09</td>\n",
              "      <td>NaN</td>\n",
              "      <td>NaN</td>\n",
              "      <td>1</td>\n",
              "    </tr>\n",
              "    <tr>\n",
              "      <th>2</th>\n",
              "      <td>RR27956449</td>\n",
              "      <td>21</td>\n",
              "      <td>32485</td>\n",
              "      <td>2021-07-10</td>\n",
              "      <td>NaN</td>\n",
              "      <td>NaN</td>\n",
              "      <td>1</td>\n",
              "    </tr>\n",
              "    <tr>\n",
              "      <th>3</th>\n",
              "      <td>RR27956450</td>\n",
              "      <td>21</td>\n",
              "      <td>32485</td>\n",
              "      <td>2021-07-11</td>\n",
              "      <td>NaN</td>\n",
              "      <td>NaN</td>\n",
              "      <td>1</td>\n",
              "    </tr>\n",
              "    <tr>\n",
              "      <th>4</th>\n",
              "      <td>RR27956451</td>\n",
              "      <td>21</td>\n",
              "      <td>32485</td>\n",
              "      <td>2021-07-12</td>\n",
              "      <td>NaN</td>\n",
              "      <td>NaN</td>\n",
              "      <td>1</td>\n",
              "    </tr>\n",
              "  </tbody>\n",
              "</table>\n",
              "</div>"
            ],
            "text/plain": [
              "           ID  geoCluster    SKU        date  price  sales  cityId\n",
              "0  RR27956447          21  32485  2021-07-08  39.69    0.9       1\n",
              "1  RR27956448          21  32485  2021-07-09    NaN    NaN       1\n",
              "2  RR27956449          21  32485  2021-07-10    NaN    NaN       1\n",
              "3  RR27956450          21  32485  2021-07-11    NaN    NaN       1\n",
              "4  RR27956451          21  32485  2021-07-12    NaN    NaN       1"
            ]
          },
          "metadata": {},
          "execution_count": 138
        }
      ]
    },
    {
      "cell_type": "code",
      "metadata": {
        "colab": {
          "base_uri": "https://localhost:8080/"
        },
        "id": "0axthcKZbVcP",
        "outputId": "ab11ce64-af70-454a-b758-b366c6309fac"
      },
      "source": [
        "df_new = df.dropna()\n",
        "df_new.head()\n",
        "df.shape"
      ],
      "execution_count": null,
      "outputs": [
        {
          "output_type": "execute_result",
          "data": {
            "text/plain": [
              "(7276738, 7)"
            ]
          },
          "metadata": {},
          "execution_count": 143
        }
      ]
    },
    {
      "cell_type": "code",
      "metadata": {
        "colab": {
          "base_uri": "https://localhost:8080/"
        },
        "id": "llWuoMJ0bmXM",
        "outputId": "7046612f-9103-46f9-add0-b5e84ab051b2"
      },
      "source": [
        "corr = df_new['sales'].corr(df_new['price'])\n",
        "corr"
      ],
      "execution_count": null,
      "outputs": [
        {
          "output_type": "execute_result",
          "data": {
            "text/plain": [
              "-0.1589919100691866"
            ]
          },
          "metadata": {},
          "execution_count": 144
        }
      ]
    },
    {
      "cell_type": "code",
      "metadata": {
        "colab": {
          "base_uri": "https://localhost:8080/"
        },
        "id": "rLsNB6pNjpYW",
        "outputId": "fe300940-40bc-4278-8228-7b03af870b3f"
      },
      "source": [
        "corr = df['price'].corr(df['sales'])\n",
        "corr"
      ],
      "execution_count": null,
      "outputs": [
        {
          "output_type": "execute_result",
          "data": {
            "text/plain": [
              "-0.1589919100691866"
            ]
          },
          "metadata": {},
          "execution_count": 145
        }
      ]
    },
    {
      "cell_type": "code",
      "metadata": {
        "colab": {
          "base_uri": "https://localhost:8080/",
          "height": 283
        },
        "id": "06PDKQSLcByO",
        "outputId": "a5e382c2-10e8-41f4-f77f-0c710ad63386"
      },
      "source": [
        "plt.scatter(df_new['price'], df_new['sales'])\n",
        "# plt.plot(np.unique(df_new['price']), \n",
        "#          np.poly1d(np.polyfit(df_new['price'], df_new['sales'], 1))\n",
        "#          (np.unique(df_new['price'])), color='red')"
      ],
      "execution_count": null,
      "outputs": [
        {
          "output_type": "execute_result",
          "data": {
            "text/plain": [
              "<matplotlib.collections.PathCollection at 0x7f88ba9269d0>"
            ]
          },
          "metadata": {},
          "execution_count": 146
        },
        {
          "output_type": "display_data",
          "data": {
            "image/png": "[encoded data removed]",
            "text/plain": [
              "<Figure size 432x288 with 1 Axes>"
            ]
          },
          "metadata": {
            "needs_background": "light"
          }
        }
      ]
    },
    {
      "cell_type": "code",
      "metadata": {
        "id": "NnJWHa-vdQ5q"
      },
      "source": [
        "x = df_new[df_new['sales']>700].index\n",
        "df_new = df_new.drop(x)"
      ],
      "execution_count": null,
      "outputs": []
    },
    {
      "cell_type": "code",
      "metadata": {
        "colab": {
          "base_uri": "https://localhost:8080/",
          "height": 283
        },
        "id": "4n9S1HcWe0SK",
        "outputId": "c4bc2697-2426-41e7-9092-82de2f54ac30"
      },
      "source": [
        "plt.scatter(df_new['price'], df_new['sales'])\n"
      ],
      "execution_count": null,
      "outputs": [
        {
          "output_type": "execute_result",
          "data": {
            "text/plain": [
              "<matplotlib.collections.PathCollection at 0x7f88ba926950>"
            ]
          },
          "metadata": {},
          "execution_count": 148
        },
        {
          "output_type": "display_data",
          "data": {
            "image/png": "[encoded data removed]",
            "text/plain": [
              "<Figure size 432x288 with 1 Axes>"
            ]
          },
          "metadata": {
            "needs_background": "light"
          }
        }
      ]
    },
    {
      "cell_type": "code",
      "metadata": {
        "colab": {
          "base_uri": "https://localhost:8080/",
          "height": 283
        },
        "id": "YSv1h-kAfzRW",
        "outputId": "1eb37399-8031-47bc-a0b9-9bf98dcdbc79"
      },
      "source": [
        "plt.scatter(df_new['geoCluster'], df_new['price'])"
      ],
      "execution_count": null,
      "outputs": [
        {
          "output_type": "execute_result",
          "data": {
            "text/plain": [
              "<matplotlib.collections.PathCollection at 0x7f88ba891250>"
            ]
          },
          "metadata": {},
          "execution_count": 149
        },
        {
          "output_type": "display_data",
          "data": {
            "image/png": "[encoded data removed]",
            "text/plain": [
              "<Figure size 432x288 with 1 Axes>"
            ]
          },
          "metadata": {
            "needs_background": "light"
          }
        }
      ]
    },
    {
      "cell_type": "code",
      "metadata": {
        "colab": {
          "base_uri": "https://localhost:8080/",
          "height": 283
        },
        "id": "Z_FvQm2df8NC",
        "outputId": "e769b821-c09d-428f-b3d0-2108bf796883"
      },
      "source": [
        "plt.scatter(df_new['geoCluster'], df_new['sales'])"
      ],
      "execution_count": null,
      "outputs": [
        {
          "output_type": "execute_result",
          "data": {
            "text/plain": [
              "<matplotlib.collections.PathCollection at 0x7f88ba86c7d0>"
            ]
          },
          "metadata": {},
          "execution_count": 150
        },
        {
          "output_type": "display_data",
          "data": {
            "image/png": "[encoded data removed]",
            "text/plain": [
              "<Figure size 432x288 with 1 Axes>"
            ]
          },
          "metadata": {
            "needs_background": "light"
          }
        }
      ]
    },
    {
      "cell_type": "code",
      "metadata": {
        "id": "CML8KQutgW6u"
      },
      "source": [
        "clean_df = df"
      ],
      "execution_count": null,
      "outputs": []
    },
    {
      "cell_type": "code",
      "metadata": {
        "id": "qMS06axt2UFq"
      },
      "source": [
        "clean_df['price'] = clean_df['price'].fillna(df.groupby(['SKU','geoCluster'])['price'].transform('mean'))"
      ],
      "execution_count": null,
      "outputs": []
    },
    {
      "cell_type": "code",
      "metadata": {
        "id": "TjTfLv_4h_dl"
      },
      "source": [
        "clean_df['sales'] = clean_df['sales'].fillna(df.groupby(['SKU','geoCluster'])['sales'].transform('mean'))"
      ],
      "execution_count": null,
      "outputs": []
    },
    {
      "cell_type": "code",
      "metadata": {
        "colab": {
          "base_uri": "https://localhost:8080/",
          "height": 1000
        },
        "id": "4Cwr0g8_HyxP",
        "outputId": "f1d25e1e-32e8-4ee3-db65-f56c259f95ee"
      },
      "source": [
        "clean_df.head(50)\n"
      ],
      "execution_count": null,
      "outputs": [
        {
          "output_type": "execute_result",
          "data": {
            "text/html": [
              "<div>\n",
              "<style scoped>\n",
              "    .dataframe tbody tr th:only-of-type {\n",
              "        vertical-align: middle;\n",
              "    }\n",
              "\n",
              "    .dataframe tbody tr th {\n",
              "        vertical-align: top;\n",
              "    }\n",
              "\n",
              "    .dataframe thead th {\n",
              "        text-align: right;\n",
              "    }\n",
              "</style>\n",
              "<table border=\"1\" class=\"dataframe\">\n",
              "  <thead>\n",
              "    <tr style=\"text-align: right;\">\n",
              "      <th></th>\n",
              "      <th>ID</th>\n",
              "      <th>geoCluster</th>\n",
              "      <th>SKU</th>\n",
              "      <th>date</th>\n",
              "      <th>price</th>\n",
              "      <th>sales</th>\n",
              "      <th>cityId</th>\n",
              "    </tr>\n",
              "  </thead>\n",
              "  <tbody>\n",
              "    <tr>\n",
              "      <th>0</th>\n",
              "      <td>RR27956447</td>\n",
              "      <td>21</td>\n",
              "      <td>32485</td>\n",
              "      <td>2021-07-08</td>\n",
              "      <td>39.69</td>\n",
              "      <td>0.9</td>\n",
              "      <td>1</td>\n",
              "    </tr>\n",
              "    <tr>\n",
              "      <th>1</th>\n",
              "      <td>RR27956448</td>\n",
              "      <td>21</td>\n",
              "      <td>32485</td>\n",
              "      <td>2021-07-09</td>\n",
              "      <td>39.69</td>\n",
              "      <td>0.9</td>\n",
              "      <td>1</td>\n",
              "    </tr>\n",
              "    <tr>\n",
              "      <th>2</th>\n",
              "      <td>RR27956449</td>\n",
              "      <td>21</td>\n",
              "      <td>32485</td>\n",
              "      <td>2021-07-10</td>\n",
              "      <td>39.69</td>\n",
              "      <td>0.9</td>\n",
              "      <td>1</td>\n",
              "    </tr>\n",
              "    <tr>\n",
              "      <th>3</th>\n",
              "      <td>RR27956450</td>\n",
              "      <td>21</td>\n",
              "      <td>32485</td>\n",
              "      <td>2021-07-11</td>\n",
              "      <td>39.69</td>\n",
              "      <td>0.9</td>\n",
              "      <td>1</td>\n",
              "    </tr>\n",
              "    <tr>\n",
              "      <th>4</th>\n",
              "      <td>RR27956451</td>\n",
              "      <td>21</td>\n",
              "      <td>32485</td>\n",
              "      <td>2021-07-12</td>\n",
              "      <td>39.69</td>\n",
              "      <td>0.9</td>\n",
              "      <td>1</td>\n",
              "    </tr>\n",
              "    <tr>\n",
              "      <th>5</th>\n",
              "      <td>RR27956452</td>\n",
              "      <td>21</td>\n",
              "      <td>32485</td>\n",
              "      <td>2021-07-13</td>\n",
              "      <td>39.69</td>\n",
              "      <td>0.9</td>\n",
              "      <td>1</td>\n",
              "    </tr>\n",
              "    <tr>\n",
              "      <th>6</th>\n",
              "      <td>RR27956453</td>\n",
              "      <td>21</td>\n",
              "      <td>32485</td>\n",
              "      <td>2021-07-14</td>\n",
              "      <td>39.69</td>\n",
              "      <td>0.9</td>\n",
              "      <td>1</td>\n",
              "    </tr>\n",
              "    <tr>\n",
              "      <th>7</th>\n",
              "      <td>RR27956454</td>\n",
              "      <td>21</td>\n",
              "      <td>32485</td>\n",
              "      <td>2021-07-15</td>\n",
              "      <td>39.69</td>\n",
              "      <td>0.9</td>\n",
              "      <td>1</td>\n",
              "    </tr>\n",
              "    <tr>\n",
              "      <th>8</th>\n",
              "      <td>RR27956455</td>\n",
              "      <td>21</td>\n",
              "      <td>32485</td>\n",
              "      <td>2021-07-16</td>\n",
              "      <td>39.69</td>\n",
              "      <td>0.9</td>\n",
              "      <td>1</td>\n",
              "    </tr>\n",
              "    <tr>\n",
              "      <th>9</th>\n",
              "      <td>RR27956456</td>\n",
              "      <td>21</td>\n",
              "      <td>32485</td>\n",
              "      <td>2021-07-17</td>\n",
              "      <td>39.69</td>\n",
              "      <td>0.9</td>\n",
              "      <td>1</td>\n",
              "    </tr>\n",
              "    <tr>\n",
              "      <th>10</th>\n",
              "      <td>RR27956457</td>\n",
              "      <td>21</td>\n",
              "      <td>32485</td>\n",
              "      <td>2021-07-18</td>\n",
              "      <td>39.69</td>\n",
              "      <td>0.9</td>\n",
              "      <td>1</td>\n",
              "    </tr>\n",
              "    <tr>\n",
              "      <th>11</th>\n",
              "      <td>RR27956458</td>\n",
              "      <td>21</td>\n",
              "      <td>32485</td>\n",
              "      <td>2021-07-19</td>\n",
              "      <td>39.69</td>\n",
              "      <td>0.9</td>\n",
              "      <td>1</td>\n",
              "    </tr>\n",
              "    <tr>\n",
              "      <th>12</th>\n",
              "      <td>RR27956459</td>\n",
              "      <td>92</td>\n",
              "      <td>32485</td>\n",
              "      <td>2021-07-05</td>\n",
              "      <td>38.29</td>\n",
              "      <td>4.0</td>\n",
              "      <td>1</td>\n",
              "    </tr>\n",
              "    <tr>\n",
              "      <th>13</th>\n",
              "      <td>RR27956460</td>\n",
              "      <td>92</td>\n",
              "      <td>32485</td>\n",
              "      <td>2021-07-06</td>\n",
              "      <td>38.29</td>\n",
              "      <td>4.0</td>\n",
              "      <td>1</td>\n",
              "    </tr>\n",
              "    <tr>\n",
              "      <th>14</th>\n",
              "      <td>RR27956461</td>\n",
              "      <td>92</td>\n",
              "      <td>32485</td>\n",
              "      <td>2021-07-07</td>\n",
              "      <td>38.29</td>\n",
              "      <td>4.0</td>\n",
              "      <td>1</td>\n",
              "    </tr>\n",
              "    <tr>\n",
              "      <th>15</th>\n",
              "      <td>RR27956462</td>\n",
              "      <td>92</td>\n",
              "      <td>32485</td>\n",
              "      <td>2021-07-08</td>\n",
              "      <td>38.29</td>\n",
              "      <td>4.0</td>\n",
              "      <td>1</td>\n",
              "    </tr>\n",
              "    <tr>\n",
              "      <th>16</th>\n",
              "      <td>RR27956463</td>\n",
              "      <td>92</td>\n",
              "      <td>32485</td>\n",
              "      <td>2021-07-09</td>\n",
              "      <td>38.29</td>\n",
              "      <td>4.0</td>\n",
              "      <td>1</td>\n",
              "    </tr>\n",
              "    <tr>\n",
              "      <th>17</th>\n",
              "      <td>RR27956464</td>\n",
              "      <td>92</td>\n",
              "      <td>32485</td>\n",
              "      <td>2021-07-10</td>\n",
              "      <td>38.29</td>\n",
              "      <td>4.0</td>\n",
              "      <td>1</td>\n",
              "    </tr>\n",
              "    <tr>\n",
              "      <th>18</th>\n",
              "      <td>RR27956465</td>\n",
              "      <td>92</td>\n",
              "      <td>32485</td>\n",
              "      <td>2021-07-11</td>\n",
              "      <td>38.29</td>\n",
              "      <td>4.0</td>\n",
              "      <td>1</td>\n",
              "    </tr>\n",
              "    <tr>\n",
              "      <th>19</th>\n",
              "      <td>RR27956466</td>\n",
              "      <td>92</td>\n",
              "      <td>32485</td>\n",
              "      <td>2021-07-12</td>\n",
              "      <td>38.29</td>\n",
              "      <td>4.0</td>\n",
              "      <td>1</td>\n",
              "    </tr>\n",
              "    <tr>\n",
              "      <th>20</th>\n",
              "      <td>RR27956467</td>\n",
              "      <td>92</td>\n",
              "      <td>32485</td>\n",
              "      <td>2021-07-13</td>\n",
              "      <td>38.29</td>\n",
              "      <td>4.0</td>\n",
              "      <td>1</td>\n",
              "    </tr>\n",
              "    <tr>\n",
              "      <th>21</th>\n",
              "      <td>RR27956468</td>\n",
              "      <td>92</td>\n",
              "      <td>32485</td>\n",
              "      <td>2021-07-14</td>\n",
              "      <td>38.29</td>\n",
              "      <td>4.0</td>\n",
              "      <td>1</td>\n",
              "    </tr>\n",
              "    <tr>\n",
              "      <th>22</th>\n",
              "      <td>RR27956469</td>\n",
              "      <td>92</td>\n",
              "      <td>32485</td>\n",
              "      <td>2021-07-15</td>\n",
              "      <td>38.29</td>\n",
              "      <td>4.0</td>\n",
              "      <td>1</td>\n",
              "    </tr>\n",
              "    <tr>\n",
              "      <th>23</th>\n",
              "      <td>RR27956470</td>\n",
              "      <td>92</td>\n",
              "      <td>32485</td>\n",
              "      <td>2021-07-16</td>\n",
              "      <td>38.29</td>\n",
              "      <td>4.0</td>\n",
              "      <td>1</td>\n",
              "    </tr>\n",
              "    <tr>\n",
              "      <th>24</th>\n",
              "      <td>RR27956471</td>\n",
              "      <td>92</td>\n",
              "      <td>32485</td>\n",
              "      <td>2021-07-17</td>\n",
              "      <td>38.29</td>\n",
              "      <td>4.0</td>\n",
              "      <td>1</td>\n",
              "    </tr>\n",
              "    <tr>\n",
              "      <th>25</th>\n",
              "      <td>RR27956472</td>\n",
              "      <td>92</td>\n",
              "      <td>32485</td>\n",
              "      <td>2021-07-18</td>\n",
              "      <td>38.29</td>\n",
              "      <td>4.0</td>\n",
              "      <td>1</td>\n",
              "    </tr>\n",
              "    <tr>\n",
              "      <th>26</th>\n",
              "      <td>RR27956473</td>\n",
              "      <td>92</td>\n",
              "      <td>32485</td>\n",
              "      <td>2021-07-19</td>\n",
              "      <td>38.29</td>\n",
              "      <td>4.0</td>\n",
              "      <td>1</td>\n",
              "    </tr>\n",
              "    <tr>\n",
              "      <th>27</th>\n",
              "      <td>RR27956474</td>\n",
              "      <td>92</td>\n",
              "      <td>32549</td>\n",
              "      <td>2021-07-05</td>\n",
              "      <td>89.39</td>\n",
              "      <td>0.5</td>\n",
              "      <td>1</td>\n",
              "    </tr>\n",
              "    <tr>\n",
              "      <th>28</th>\n",
              "      <td>RR27956475</td>\n",
              "      <td>92</td>\n",
              "      <td>32549</td>\n",
              "      <td>2021-07-06</td>\n",
              "      <td>89.39</td>\n",
              "      <td>0.5</td>\n",
              "      <td>1</td>\n",
              "    </tr>\n",
              "    <tr>\n",
              "      <th>29</th>\n",
              "      <td>RR27956476</td>\n",
              "      <td>92</td>\n",
              "      <td>32549</td>\n",
              "      <td>2021-07-07</td>\n",
              "      <td>89.39</td>\n",
              "      <td>0.5</td>\n",
              "      <td>1</td>\n",
              "    </tr>\n",
              "    <tr>\n",
              "      <th>30</th>\n",
              "      <td>RR27956477</td>\n",
              "      <td>92</td>\n",
              "      <td>32549</td>\n",
              "      <td>2021-07-08</td>\n",
              "      <td>89.39</td>\n",
              "      <td>0.5</td>\n",
              "      <td>1</td>\n",
              "    </tr>\n",
              "    <tr>\n",
              "      <th>31</th>\n",
              "      <td>RR27956478</td>\n",
              "      <td>92</td>\n",
              "      <td>32549</td>\n",
              "      <td>2021-07-09</td>\n",
              "      <td>89.39</td>\n",
              "      <td>0.5</td>\n",
              "      <td>1</td>\n",
              "    </tr>\n",
              "    <tr>\n",
              "      <th>32</th>\n",
              "      <td>RR27956479</td>\n",
              "      <td>92</td>\n",
              "      <td>32549</td>\n",
              "      <td>2021-07-10</td>\n",
              "      <td>89.39</td>\n",
              "      <td>0.5</td>\n",
              "      <td>1</td>\n",
              "    </tr>\n",
              "    <tr>\n",
              "      <th>33</th>\n",
              "      <td>RR27956480</td>\n",
              "      <td>92</td>\n",
              "      <td>32549</td>\n",
              "      <td>2021-07-11</td>\n",
              "      <td>89.39</td>\n",
              "      <td>0.5</td>\n",
              "      <td>1</td>\n",
              "    </tr>\n",
              "    <tr>\n",
              "      <th>34</th>\n",
              "      <td>RR27956481</td>\n",
              "      <td>92</td>\n",
              "      <td>32549</td>\n",
              "      <td>2021-07-12</td>\n",
              "      <td>89.39</td>\n",
              "      <td>0.5</td>\n",
              "      <td>1</td>\n",
              "    </tr>\n",
              "    <tr>\n",
              "      <th>35</th>\n",
              "      <td>RR27956482</td>\n",
              "      <td>92</td>\n",
              "      <td>32549</td>\n",
              "      <td>2021-07-13</td>\n",
              "      <td>89.39</td>\n",
              "      <td>0.5</td>\n",
              "      <td>1</td>\n",
              "    </tr>\n",
              "    <tr>\n",
              "      <th>36</th>\n",
              "      <td>RR27956483</td>\n",
              "      <td>92</td>\n",
              "      <td>32549</td>\n",
              "      <td>2021-07-14</td>\n",
              "      <td>89.39</td>\n",
              "      <td>0.5</td>\n",
              "      <td>1</td>\n",
              "    </tr>\n",
              "    <tr>\n",
              "      <th>37</th>\n",
              "      <td>RR27956484</td>\n",
              "      <td>92</td>\n",
              "      <td>32549</td>\n",
              "      <td>2021-07-15</td>\n",
              "      <td>89.39</td>\n",
              "      <td>0.5</td>\n",
              "      <td>1</td>\n",
              "    </tr>\n",
              "    <tr>\n",
              "      <th>38</th>\n",
              "      <td>RR27956485</td>\n",
              "      <td>92</td>\n",
              "      <td>32549</td>\n",
              "      <td>2021-07-16</td>\n",
              "      <td>89.39</td>\n",
              "      <td>0.5</td>\n",
              "      <td>1</td>\n",
              "    </tr>\n",
              "    <tr>\n",
              "      <th>39</th>\n",
              "      <td>RR27956486</td>\n",
              "      <td>92</td>\n",
              "      <td>32549</td>\n",
              "      <td>2021-07-17</td>\n",
              "      <td>89.39</td>\n",
              "      <td>0.5</td>\n",
              "      <td>1</td>\n",
              "    </tr>\n",
              "    <tr>\n",
              "      <th>40</th>\n",
              "      <td>RR27956487</td>\n",
              "      <td>92</td>\n",
              "      <td>32549</td>\n",
              "      <td>2021-07-18</td>\n",
              "      <td>89.39</td>\n",
              "      <td>0.5</td>\n",
              "      <td>1</td>\n",
              "    </tr>\n",
              "    <tr>\n",
              "      <th>41</th>\n",
              "      <td>RR27956488</td>\n",
              "      <td>92</td>\n",
              "      <td>32549</td>\n",
              "      <td>2021-07-19</td>\n",
              "      <td>89.39</td>\n",
              "      <td>0.5</td>\n",
              "      <td>1</td>\n",
              "    </tr>\n",
              "    <tr>\n",
              "      <th>42</th>\n",
              "      <td>RR31319456</td>\n",
              "      <td>92</td>\n",
              "      <td>840663</td>\n",
              "      <td>2021-06-05</td>\n",
              "      <td>18.39</td>\n",
              "      <td>2.0</td>\n",
              "      <td>1</td>\n",
              "    </tr>\n",
              "    <tr>\n",
              "      <th>43</th>\n",
              "      <td>RR31319457</td>\n",
              "      <td>92</td>\n",
              "      <td>840663</td>\n",
              "      <td>2021-06-06</td>\n",
              "      <td>18.39</td>\n",
              "      <td>2.0</td>\n",
              "      <td>1</td>\n",
              "    </tr>\n",
              "    <tr>\n",
              "      <th>44</th>\n",
              "      <td>RR31319458</td>\n",
              "      <td>92</td>\n",
              "      <td>840663</td>\n",
              "      <td>2021-06-07</td>\n",
              "      <td>18.39</td>\n",
              "      <td>2.0</td>\n",
              "      <td>1</td>\n",
              "    </tr>\n",
              "    <tr>\n",
              "      <th>45</th>\n",
              "      <td>RR31319459</td>\n",
              "      <td>92</td>\n",
              "      <td>840663</td>\n",
              "      <td>2021-06-08</td>\n",
              "      <td>18.39</td>\n",
              "      <td>2.0</td>\n",
              "      <td>1</td>\n",
              "    </tr>\n",
              "    <tr>\n",
              "      <th>46</th>\n",
              "      <td>RR31319460</td>\n",
              "      <td>92</td>\n",
              "      <td>840663</td>\n",
              "      <td>2021-06-09</td>\n",
              "      <td>18.39</td>\n",
              "      <td>2.0</td>\n",
              "      <td>1</td>\n",
              "    </tr>\n",
              "    <tr>\n",
              "      <th>47</th>\n",
              "      <td>RR31319461</td>\n",
              "      <td>92</td>\n",
              "      <td>840663</td>\n",
              "      <td>2021-06-10</td>\n",
              "      <td>18.39</td>\n",
              "      <td>2.0</td>\n",
              "      <td>1</td>\n",
              "    </tr>\n",
              "    <tr>\n",
              "      <th>48</th>\n",
              "      <td>RR31319462</td>\n",
              "      <td>92</td>\n",
              "      <td>840663</td>\n",
              "      <td>2021-06-11</td>\n",
              "      <td>18.39</td>\n",
              "      <td>2.0</td>\n",
              "      <td>1</td>\n",
              "    </tr>\n",
              "    <tr>\n",
              "      <th>49</th>\n",
              "      <td>RR31319463</td>\n",
              "      <td>92</td>\n",
              "      <td>840663</td>\n",
              "      <td>2021-06-12</td>\n",
              "      <td>18.39</td>\n",
              "      <td>2.0</td>\n",
              "      <td>1</td>\n",
              "    </tr>\n",
              "  </tbody>\n",
              "</table>\n",
              "</div>"
            ],
            "text/plain": [
              "            ID  geoCluster     SKU        date  price  sales  cityId\n",
              "0   RR27956447          21   32485  2021-07-08  39.69    0.9       1\n",
              "1   RR27956448          21   32485  2021-07-09  39.69    0.9       1\n",
              "2   RR27956449          21   32485  2021-07-10  39.69    0.9       1\n",
              "3   RR27956450          21   32485  2021-07-11  39.69    0.9       1\n",
              "4   RR27956451          21   32485  2021-07-12  39.69    0.9       1\n",
              "5   RR27956452          21   32485  2021-07-13  39.69    0.9       1\n",
              "6   RR27956453          21   32485  2021-07-14  39.69    0.9       1\n",
              "7   RR27956454          21   32485  2021-07-15  39.69    0.9       1\n",
              "8   RR27956455          21   32485  2021-07-16  39.69    0.9       1\n",
              "9   RR27956456          21   32485  2021-07-17  39.69    0.9       1\n",
              "10  RR27956457          21   32485  2021-07-18  39.69    0.9       1\n",
              "11  RR27956458          21   32485  2021-07-19  39.69    0.9       1\n",
              "12  RR27956459          92   32485  2021-07-05  38.29    4.0       1\n",
              "13  RR27956460          92   32485  2021-07-06  38.29    4.0       1\n",
              "14  RR27956461          92   32485  2021-07-07  38.29    4.0       1\n",
              "15  RR27956462          92   32485  2021-07-08  38.29    4.0       1\n",
              "16  RR27956463          92   32485  2021-07-09  38.29    4.0       1\n",
              "17  RR27956464          92   32485  2021-07-10  38.29    4.0       1\n",
              "18  RR27956465          92   32485  2021-07-11  38.29    4.0       1\n",
              "19  RR27956466          92   32485  2021-07-12  38.29    4.0       1\n",
              "20  RR27956467          92   32485  2021-07-13  38.29    4.0       1\n",
              "21  RR27956468          92   32485  2021-07-14  38.29    4.0       1\n",
              "22  RR27956469          92   32485  2021-07-15  38.29    4.0       1\n",
              "23  RR27956470          92   32485  2021-07-16  38.29    4.0       1\n",
              "24  RR27956471          92   32485  2021-07-17  38.29    4.0       1\n",
              "25  RR27956472          92   32485  2021-07-18  38.29    4.0       1\n",
              "26  RR27956473          92   32485  2021-07-19  38.29    4.0       1\n",
              "27  RR27956474          92   32549  2021-07-05  89.39    0.5       1\n",
              "28  RR27956475          92   32549  2021-07-06  89.39    0.5       1\n",
              "29  RR27956476          92   32549  2021-07-07  89.39    0.5       1\n",
              "30  RR27956477          92   32549  2021-07-08  89.39    0.5       1\n",
              "31  RR27956478          92   32549  2021-07-09  89.39    0.5       1\n",
              "32  RR27956479          92   32549  2021-07-10  89.39    0.5       1\n",
              "33  RR27956480          92   32549  2021-07-11  89.39    0.5       1\n",
              "34  RR27956481          92   32549  2021-07-12  89.39    0.5       1\n",
              "35  RR27956482          92   32549  2021-07-13  89.39    0.5       1\n",
              "36  RR27956483          92   32549  2021-07-14  89.39    0.5       1\n",
              "37  RR27956484          92   32549  2021-07-15  89.39    0.5       1\n",
              "38  RR27956485          92   32549  2021-07-16  89.39    0.5       1\n",
              "39  RR27956486          92   32549  2021-07-17  89.39    0.5       1\n",
              "40  RR27956487          92   32549  2021-07-18  89.39    0.5       1\n",
              "41  RR27956488          92   32549  2021-07-19  89.39    0.5       1\n",
              "42  RR31319456          92  840663  2021-06-05  18.39    2.0       1\n",
              "43  RR31319457          92  840663  2021-06-06  18.39    2.0       1\n",
              "44  RR31319458          92  840663  2021-06-07  18.39    2.0       1\n",
              "45  RR31319459          92  840663  2021-06-08  18.39    2.0       1\n",
              "46  RR31319460          92  840663  2021-06-09  18.39    2.0       1\n",
              "47  RR31319461          92  840663  2021-06-10  18.39    2.0       1\n",
              "48  RR31319462          92  840663  2021-06-11  18.39    2.0       1\n",
              "49  RR31319463          92  840663  2021-06-12  18.39    2.0       1"
            ]
          },
          "metadata": {},
          "execution_count": 124
        }
      ]
    },
    {
      "cell_type": "code",
      "metadata": {
        "colab": {
          "base_uri": "https://localhost:8080/"
        },
        "id": "nw1cm56iIKt6",
        "outputId": "fb40f80d-b903-4735-f587-cf72286186c8"
      },
      "source": [
        "clean_df.isnull().sum()"
      ],
      "execution_count": null,
      "outputs": [
        {
          "output_type": "execute_result",
          "data": {
            "text/plain": [
              "ID                0\n",
              "geoCluster        0\n",
              "SKU               0\n",
              "date              0\n",
              "price         13584\n",
              "sales         13584\n",
              "cityId            0\n",
              "dtype: int64"
            ]
          },
          "metadata": {},
          "execution_count": 173
        }
      ]
    },
    {
      "cell_type": "code",
      "metadata": {
        "colab": {
          "base_uri": "https://localhost:8080/"
        },
        "id": "oaVOrX20iI3W",
        "outputId": "616345d8-6922-4eef-e776-efa3beacbf02"
      },
      "source": [
        "clean_df[df['geoCluster']==112].isnull().sum()"
      ],
      "execution_count": null,
      "outputs": [
        {
          "output_type": "execute_result",
          "data": {
            "text/plain": [
              "ID            0\n",
              "geoCluster    0\n",
              "SKU           0\n",
              "date          0\n",
              "price         0\n",
              "sales         0\n",
              "cityId        0\n",
              "dtype: int64"
            ]
          },
          "metadata": {},
          "execution_count": 126
        }
      ]
    },
    {
      "cell_type": "code",
      "metadata": {
        "id": "fUTFwToZiveR",
        "colab": {
          "base_uri": "https://localhost:8080/"
        },
        "outputId": "af1e3856-6c37-4088-8e27-e2514f9d2111"
      },
      "source": [
        "corr = clean_df['sales'].corr(clean_df['price'])\n",
        "corr"
      ],
      "execution_count": null,
      "outputs": [
        {
          "output_type": "execute_result",
          "data": {
            "text/plain": [
              "-0.26927079933803566"
            ]
          },
          "metadata": {},
          "execution_count": 174
        }
      ]
    },
    {
      "cell_type": "code",
      "metadata": {
        "colab": {
          "base_uri": "https://localhost:8080/",
          "height": 414
        },
        "id": "TTNoozx5zQKa",
        "outputId": "c95f29d5-0d4a-48d7-9eab-bac56c36c907"
      },
      "source": [
        "clean_df[clean_df['price'].notnull() & clean_df['sales'].notnull()]"
      ],
      "execution_count": null,
      "outputs": [
        {
          "output_type": "execute_result",
          "data": {
            "text/html": [
              "<div>\n",
              "<style scoped>\n",
              "    .dataframe tbody tr th:only-of-type {\n",
              "        vertical-align: middle;\n",
              "    }\n",
              "\n",
              "    .dataframe tbody tr th {\n",
              "        vertical-align: top;\n",
              "    }\n",
              "\n",
              "    .dataframe thead th {\n",
              "        text-align: right;\n",
              "    }\n",
              "</style>\n",
              "<table border=\"1\" class=\"dataframe\">\n",
              "  <thead>\n",
              "    <tr style=\"text-align: right;\">\n",
              "      <th></th>\n",
              "      <th>ID</th>\n",
              "      <th>geoCluster</th>\n",
              "      <th>SKU</th>\n",
              "      <th>date</th>\n",
              "      <th>price</th>\n",
              "      <th>sales</th>\n",
              "      <th>cityId</th>\n",
              "    </tr>\n",
              "  </thead>\n",
              "  <tbody>\n",
              "    <tr>\n",
              "      <th>0</th>\n",
              "      <td>RR27956447</td>\n",
              "      <td>21</td>\n",
              "      <td>32485</td>\n",
              "      <td>2021-07-08</td>\n",
              "      <td>39.69</td>\n",
              "      <td>0.9</td>\n",
              "      <td>1</td>\n",
              "    </tr>\n",
              "    <tr>\n",
              "      <th>1</th>\n",
              "      <td>RR27956448</td>\n",
              "      <td>21</td>\n",
              "      <td>32485</td>\n",
              "      <td>2021-07-09</td>\n",
              "      <td>39.69</td>\n",
              "      <td>0.9</td>\n",
              "      <td>1</td>\n",
              "    </tr>\n",
              "    <tr>\n",
              "      <th>2</th>\n",
              "      <td>RR27956449</td>\n",
              "      <td>21</td>\n",
              "      <td>32485</td>\n",
              "      <td>2021-07-10</td>\n",
              "      <td>39.69</td>\n",
              "      <td>0.9</td>\n",
              "      <td>1</td>\n",
              "    </tr>\n",
              "    <tr>\n",
              "      <th>3</th>\n",
              "      <td>RR27956450</td>\n",
              "      <td>21</td>\n",
              "      <td>32485</td>\n",
              "      <td>2021-07-11</td>\n",
              "      <td>39.69</td>\n",
              "      <td>0.9</td>\n",
              "      <td>1</td>\n",
              "    </tr>\n",
              "    <tr>\n",
              "      <th>4</th>\n",
              "      <td>RR27956451</td>\n",
              "      <td>21</td>\n",
              "      <td>32485</td>\n",
              "      <td>2021-07-12</td>\n",
              "      <td>39.69</td>\n",
              "      <td>0.9</td>\n",
              "      <td>1</td>\n",
              "    </tr>\n",
              "    <tr>\n",
              "      <th>...</th>\n",
              "      <td>...</td>\n",
              "      <td>...</td>\n",
              "      <td>...</td>\n",
              "      <td>...</td>\n",
              "      <td>...</td>\n",
              "      <td>...</td>\n",
              "      <td>...</td>\n",
              "    </tr>\n",
              "    <tr>\n",
              "      <th>7276733</th>\n",
              "      <td>RR31529953</td>\n",
              "      <td>1974</td>\n",
              "      <td>709889</td>\n",
              "      <td>2021-07-15</td>\n",
              "      <td>29.59</td>\n",
              "      <td>2.0</td>\n",
              "      <td>0</td>\n",
              "    </tr>\n",
              "    <tr>\n",
              "      <th>7276734</th>\n",
              "      <td>RR31529954</td>\n",
              "      <td>1974</td>\n",
              "      <td>709889</td>\n",
              "      <td>2021-07-16</td>\n",
              "      <td>29.59</td>\n",
              "      <td>2.0</td>\n",
              "      <td>0</td>\n",
              "    </tr>\n",
              "    <tr>\n",
              "      <th>7276735</th>\n",
              "      <td>RR31529955</td>\n",
              "      <td>1974</td>\n",
              "      <td>709889</td>\n",
              "      <td>2021-07-17</td>\n",
              "      <td>29.59</td>\n",
              "      <td>2.0</td>\n",
              "      <td>0</td>\n",
              "    </tr>\n",
              "    <tr>\n",
              "      <th>7276736</th>\n",
              "      <td>RR31529956</td>\n",
              "      <td>1974</td>\n",
              "      <td>709889</td>\n",
              "      <td>2021-07-18</td>\n",
              "      <td>29.59</td>\n",
              "      <td>2.0</td>\n",
              "      <td>0</td>\n",
              "    </tr>\n",
              "    <tr>\n",
              "      <th>7276737</th>\n",
              "      <td>RR31529957</td>\n",
              "      <td>1974</td>\n",
              "      <td>709889</td>\n",
              "      <td>2021-07-19</td>\n",
              "      <td>29.59</td>\n",
              "      <td>2.0</td>\n",
              "      <td>0</td>\n",
              "    </tr>\n",
              "  </tbody>\n",
              "</table>\n",
              "<p>7263154 rows × 7 columns</p>\n",
              "</div>"
            ],
            "text/plain": [
              "                 ID  geoCluster     SKU        date  price  sales  cityId\n",
              "0        RR27956447          21   32485  2021-07-08  39.69    0.9       1\n",
              "1        RR27956448          21   32485  2021-07-09  39.69    0.9       1\n",
              "2        RR27956449          21   32485  2021-07-10  39.69    0.9       1\n",
              "3        RR27956450          21   32485  2021-07-11  39.69    0.9       1\n",
              "4        RR27956451          21   32485  2021-07-12  39.69    0.9       1\n",
              "...             ...         ...     ...         ...    ...    ...     ...\n",
              "7276733  RR31529953        1974  709889  2021-07-15  29.59    2.0       0\n",
              "7276734  RR31529954        1974  709889  2021-07-16  29.59    2.0       0\n",
              "7276735  RR31529955        1974  709889  2021-07-17  29.59    2.0       0\n",
              "7276736  RR31529956        1974  709889  2021-07-18  29.59    2.0       0\n",
              "7276737  RR31529957        1974  709889  2021-07-19  29.59    2.0       0\n",
              "\n",
              "[7263154 rows x 7 columns]"
            ]
          },
          "metadata": {},
          "execution_count": 172
        }
      ]
    },
    {
      "cell_type": "code",
      "metadata": {
        "colab": {
          "base_uri": "https://localhost:8080/",
          "height": 282
        },
        "id": "XWOUn_nGzasT",
        "outputId": "4d428d5c-94ae-4ac5-9367-7a0726251df8"
      },
      "source": [
        "plt.scatter(clean_df['price'], clean_df['sales'])"
      ],
      "execution_count": null,
      "outputs": [
        {
          "output_type": "execute_result",
          "data": {
            "text/plain": [
              "<matplotlib.collections.PathCollection at 0x7f88ba6aa110>"
            ]
          },
          "metadata": {},
          "execution_count": 189
        },
        {
          "output_type": "display_data",
          "data": {
            "image/png": "[encoded data removed]",
            "text/plain": [
              "<Figure size 432x288 with 1 Axes>"
            ]
          },
          "metadata": {
            "needs_background": "light"
          }
        }
      ]
    },
    {
      "cell_type": "code",
      "metadata": {
        "id": "8mRCYXTv0E8I"
      },
      "source": [
        "clean_df = clean_df.drop(clean_df[clean_df['sales']>700].index)"
      ],
      "execution_count": null,
      "outputs": []
    },
    {
      "cell_type": "code",
      "metadata": {
        "colab": {
          "base_uri": "https://localhost:8080/",
          "height": 202
        },
        "id": "w9tt31da0Vcc",
        "outputId": "cec5a484-03d0-4497-bba1-fc02be936b1f"
      },
      "source": [
        "clean_df.head()"
      ],
      "execution_count": null,
      "outputs": [
        {
          "output_type": "execute_result",
          "data": {
            "text/html": [
              "<div>\n",
              "<style scoped>\n",
              "    .dataframe tbody tr th:only-of-type {\n",
              "        vertical-align: middle;\n",
              "    }\n",
              "\n",
              "    .dataframe tbody tr th {\n",
              "        vertical-align: top;\n",
              "    }\n",
              "\n",
              "    .dataframe thead th {\n",
              "        text-align: right;\n",
              "    }\n",
              "</style>\n",
              "<table border=\"1\" class=\"dataframe\">\n",
              "  <thead>\n",
              "    <tr style=\"text-align: right;\">\n",
              "      <th></th>\n",
              "      <th>ID</th>\n",
              "      <th>geoCluster</th>\n",
              "      <th>SKU</th>\n",
              "      <th>date</th>\n",
              "      <th>price</th>\n",
              "      <th>sales</th>\n",
              "      <th>cityId</th>\n",
              "    </tr>\n",
              "  </thead>\n",
              "  <tbody>\n",
              "    <tr>\n",
              "      <th>0</th>\n",
              "      <td>RR27956447</td>\n",
              "      <td>21</td>\n",
              "      <td>32485</td>\n",
              "      <td>2021-07-08</td>\n",
              "      <td>39.69</td>\n",
              "      <td>0.9</td>\n",
              "      <td>1</td>\n",
              "    </tr>\n",
              "    <tr>\n",
              "      <th>1</th>\n",
              "      <td>RR27956448</td>\n",
              "      <td>21</td>\n",
              "      <td>32485</td>\n",
              "      <td>2021-07-09</td>\n",
              "      <td>39.69</td>\n",
              "      <td>0.9</td>\n",
              "      <td>1</td>\n",
              "    </tr>\n",
              "    <tr>\n",
              "      <th>2</th>\n",
              "      <td>RR27956449</td>\n",
              "      <td>21</td>\n",
              "      <td>32485</td>\n",
              "      <td>2021-07-10</td>\n",
              "      <td>39.69</td>\n",
              "      <td>0.9</td>\n",
              "      <td>1</td>\n",
              "    </tr>\n",
              "    <tr>\n",
              "      <th>3</th>\n",
              "      <td>RR27956450</td>\n",
              "      <td>21</td>\n",
              "      <td>32485</td>\n",
              "      <td>2021-07-11</td>\n",
              "      <td>39.69</td>\n",
              "      <td>0.9</td>\n",
              "      <td>1</td>\n",
              "    </tr>\n",
              "    <tr>\n",
              "      <th>4</th>\n",
              "      <td>RR27956451</td>\n",
              "      <td>21</td>\n",
              "      <td>32485</td>\n",
              "      <td>2021-07-12</td>\n",
              "      <td>39.69</td>\n",
              "      <td>0.9</td>\n",
              "      <td>1</td>\n",
              "    </tr>\n",
              "  </tbody>\n",
              "</table>\n",
              "</div>"
            ],
            "text/plain": [
              "           ID  geoCluster    SKU        date  price  sales  cityId\n",
              "0  RR27956447          21  32485  2021-07-08  39.69    0.9       1\n",
              "1  RR27956448          21  32485  2021-07-09  39.69    0.9       1\n",
              "2  RR27956449          21  32485  2021-07-10  39.69    0.9       1\n",
              "3  RR27956450          21  32485  2021-07-11  39.69    0.9       1\n",
              "4  RR27956451          21  32485  2021-07-12  39.69    0.9       1"
            ]
          },
          "metadata": {},
          "execution_count": 188
        }
      ]
    },
    {
      "cell_type": "code",
      "metadata": {
        "id": "2SGT3YBc1e_1"
      },
      "source": [
        "clean_df.dropna(inplace=True)"
      ],
      "execution_count": null,
      "outputs": []
    },
    {
      "cell_type": "code",
      "metadata": {
        "colab": {
          "base_uri": "https://localhost:8080/"
        },
        "id": "kT89DXVN1vhl",
        "outputId": "881d34d8-bc3e-490c-e5bb-854308e33023"
      },
      "source": [
        "clean_df.isnull().sum()"
      ],
      "execution_count": null,
      "outputs": [
        {
          "output_type": "execute_result",
          "data": {
            "text/plain": [
              "ID            0\n",
              "geoCluster    0\n",
              "SKU           0\n",
              "date          0\n",
              "price         0\n",
              "sales         0\n",
              "cityId        0\n",
              "dtype: int64"
            ]
          },
          "metadata": {},
          "execution_count": 195
        }
      ]
    },
    {
      "cell_type": "code",
      "metadata": {
        "colab": {
          "base_uri": "https://localhost:8080/",
          "height": 202
        },
        "id": "idn0q3PE116I",
        "outputId": "22c8f565-122d-48a6-e5c5-35351ff43669"
      },
      "source": [
        "# dropinf date, cityid\n",
        "predict_df = clean_df.drop(columns=['date', 'ID'])\n",
        "predict_df.head()"
      ],
      "execution_count": null,
      "outputs": [
        {
          "output_type": "execute_result",
          "data": {
            "text/html": [
              "<div>\n",
              "<style scoped>\n",
              "    .dataframe tbody tr th:only-of-type {\n",
              "        vertical-align: middle;\n",
              "    }\n",
              "\n",
              "    .dataframe tbody tr th {\n",
              "        vertical-align: top;\n",
              "    }\n",
              "\n",
              "    .dataframe thead th {\n",
              "        text-align: right;\n",
              "    }\n",
              "</style>\n",
              "<table border=\"1\" class=\"dataframe\">\n",
              "  <thead>\n",
              "    <tr style=\"text-align: right;\">\n",
              "      <th></th>\n",
              "      <th>geoCluster</th>\n",
              "      <th>SKU</th>\n",
              "      <th>price</th>\n",
              "      <th>sales</th>\n",
              "      <th>cityId</th>\n",
              "    </tr>\n",
              "  </thead>\n",
              "  <tbody>\n",
              "    <tr>\n",
              "      <th>0</th>\n",
              "      <td>21</td>\n",
              "      <td>32485</td>\n",
              "      <td>39.69</td>\n",
              "      <td>0.9</td>\n",
              "      <td>1</td>\n",
              "    </tr>\n",
              "    <tr>\n",
              "      <th>1</th>\n",
              "      <td>21</td>\n",
              "      <td>32485</td>\n",
              "      <td>39.69</td>\n",
              "      <td>0.9</td>\n",
              "      <td>1</td>\n",
              "    </tr>\n",
              "    <tr>\n",
              "      <th>2</th>\n",
              "      <td>21</td>\n",
              "      <td>32485</td>\n",
              "      <td>39.69</td>\n",
              "      <td>0.9</td>\n",
              "      <td>1</td>\n",
              "    </tr>\n",
              "    <tr>\n",
              "      <th>3</th>\n",
              "      <td>21</td>\n",
              "      <td>32485</td>\n",
              "      <td>39.69</td>\n",
              "      <td>0.9</td>\n",
              "      <td>1</td>\n",
              "    </tr>\n",
              "    <tr>\n",
              "      <th>4</th>\n",
              "      <td>21</td>\n",
              "      <td>32485</td>\n",
              "      <td>39.69</td>\n",
              "      <td>0.9</td>\n",
              "      <td>1</td>\n",
              "    </tr>\n",
              "  </tbody>\n",
              "</table>\n",
              "</div>"
            ],
            "text/plain": [
              "   geoCluster    SKU  price  sales  cityId\n",
              "0          21  32485  39.69    0.9       1\n",
              "1          21  32485  39.69    0.9       1\n",
              "2          21  32485  39.69    0.9       1\n",
              "3          21  32485  39.69    0.9       1\n",
              "4          21  32485  39.69    0.9       1"
            ]
          },
          "metadata": {},
          "execution_count": 246
        }
      ]
    },
    {
      "cell_type": "markdown",
      "metadata": {
        "id": "36mtIokI2y3n"
      },
      "source": [
        "## **Machine** **Learning**"
      ]
    },
    {
      "cell_type": "code",
      "metadata": {
        "id": "6g5wWyFu2c_Z"
      },
      "source": [
        "#scaleing\n",
        "from sklearn.preprocessing import MinMaxScaler"
      ],
      "execution_count": null,
      "outputs": []
    },
    {
      "cell_type": "code",
      "metadata": {
        "id": "acC-_oc92vg8"
      },
      "source": [
        "scaler = MinMaxScaler()"
      ],
      "execution_count": null,
      "outputs": []
    },
    {
      "cell_type": "code",
      "metadata": {
        "id": "Y-nByiYX3Ncm"
      },
      "source": [
        "df_scaled = scaler.fit_transform(predict_df)"
      ],
      "execution_count": null,
      "outputs": []
    },
    {
      "cell_type": "code",
      "metadata": {
        "colab": {
          "base_uri": "https://localhost:8080/",
          "height": 202
        },
        "id": "XSW5YJwh3XSJ",
        "outputId": "b82c2787-f256-46de-e1c1-15db0ff9a5e7"
      },
      "source": [
        "normalised_df = pd.DataFrame(df_scaled, columns = ['geoCluster','SKU','price','sales', 'cityId'])\n",
        "normalised_df.head()"
      ],
      "execution_count": null,
      "outputs": [
        {
          "output_type": "execute_result",
          "data": {
            "text/html": [
              "<div>\n",
              "<style scoped>\n",
              "    .dataframe tbody tr th:only-of-type {\n",
              "        vertical-align: middle;\n",
              "    }\n",
              "\n",
              "    .dataframe tbody tr th {\n",
              "        vertical-align: top;\n",
              "    }\n",
              "\n",
              "    .dataframe thead th {\n",
              "        text-align: right;\n",
              "    }\n",
              "</style>\n",
              "<table border=\"1\" class=\"dataframe\">\n",
              "  <thead>\n",
              "    <tr style=\"text-align: right;\">\n",
              "      <th></th>\n",
              "      <th>geoCluster</th>\n",
              "      <th>SKU</th>\n",
              "      <th>price</th>\n",
              "      <th>sales</th>\n",
              "      <th>cityId</th>\n",
              "    </tr>\n",
              "  </thead>\n",
              "  <tbody>\n",
              "    <tr>\n",
              "      <th>0</th>\n",
              "      <td>0.0</td>\n",
              "      <td>0.037391</td>\n",
              "      <td>0.018645</td>\n",
              "      <td>0.002906</td>\n",
              "      <td>1.0</td>\n",
              "    </tr>\n",
              "    <tr>\n",
              "      <th>1</th>\n",
              "      <td>0.0</td>\n",
              "      <td>0.037391</td>\n",
              "      <td>0.018645</td>\n",
              "      <td>0.002906</td>\n",
              "      <td>1.0</td>\n",
              "    </tr>\n",
              "    <tr>\n",
              "      <th>2</th>\n",
              "      <td>0.0</td>\n",
              "      <td>0.037391</td>\n",
              "      <td>0.018645</td>\n",
              "      <td>0.002906</td>\n",
              "      <td>1.0</td>\n",
              "    </tr>\n",
              "    <tr>\n",
              "      <th>3</th>\n",
              "      <td>0.0</td>\n",
              "      <td>0.037391</td>\n",
              "      <td>0.018645</td>\n",
              "      <td>0.002906</td>\n",
              "      <td>1.0</td>\n",
              "    </tr>\n",
              "    <tr>\n",
              "      <th>4</th>\n",
              "      <td>0.0</td>\n",
              "      <td>0.037391</td>\n",
              "      <td>0.018645</td>\n",
              "      <td>0.002906</td>\n",
              "      <td>1.0</td>\n",
              "    </tr>\n",
              "  </tbody>\n",
              "</table>\n",
              "</div>"
            ],
            "text/plain": [
              "   geoCluster       SKU     price     sales  cityId\n",
              "0         0.0  0.037391  0.018645  0.002906     1.0\n",
              "1         0.0  0.037391  0.018645  0.002906     1.0\n",
              "2         0.0  0.037391  0.018645  0.002906     1.0\n",
              "3         0.0  0.037391  0.018645  0.002906     1.0\n",
              "4         0.0  0.037391  0.018645  0.002906     1.0"
            ]
          },
          "metadata": {},
          "execution_count": 250
        }
      ]
    },
    {
      "cell_type": "code",
      "metadata": {
        "colab": {
          "base_uri": "https://localhost:8080/",
          "height": 202
        },
        "id": "4zZEhHx-6BTV",
        "outputId": "0fb01e8b-11c4-4b7c-85c3-924bfbd5852f"
      },
      "source": [
        "x = normalised_df.drop(columns=['sales'])\n",
        "y = normalised_df['sales']\n",
        "x.head()"
      ],
      "execution_count": null,
      "outputs": [
        {
          "output_type": "execute_result",
          "data": {
            "text/html": [
              "<div>\n",
              "<style scoped>\n",
              "    .dataframe tbody tr th:only-of-type {\n",
              "        vertical-align: middle;\n",
              "    }\n",
              "\n",
              "    .dataframe tbody tr th {\n",
              "        vertical-align: top;\n",
              "    }\n",
              "\n",
              "    .dataframe thead th {\n",
              "        text-align: right;\n",
              "    }\n",
              "</style>\n",
              "<table border=\"1\" class=\"dataframe\">\n",
              "  <thead>\n",
              "    <tr style=\"text-align: right;\">\n",
              "      <th></th>\n",
              "      <th>geoCluster</th>\n",
              "      <th>SKU</th>\n",
              "      <th>price</th>\n",
              "      <th>cityId</th>\n",
              "    </tr>\n",
              "  </thead>\n",
              "  <tbody>\n",
              "    <tr>\n",
              "      <th>0</th>\n",
              "      <td>0.0</td>\n",
              "      <td>0.037391</td>\n",
              "      <td>0.018645</td>\n",
              "      <td>1.0</td>\n",
              "    </tr>\n",
              "    <tr>\n",
              "      <th>1</th>\n",
              "      <td>0.0</td>\n",
              "      <td>0.037391</td>\n",
              "      <td>0.018645</td>\n",
              "      <td>1.0</td>\n",
              "    </tr>\n",
              "    <tr>\n",
              "      <th>2</th>\n",
              "      <td>0.0</td>\n",
              "      <td>0.037391</td>\n",
              "      <td>0.018645</td>\n",
              "      <td>1.0</td>\n",
              "    </tr>\n",
              "    <tr>\n",
              "      <th>3</th>\n",
              "      <td>0.0</td>\n",
              "      <td>0.037391</td>\n",
              "      <td>0.018645</td>\n",
              "      <td>1.0</td>\n",
              "    </tr>\n",
              "    <tr>\n",
              "      <th>4</th>\n",
              "      <td>0.0</td>\n",
              "      <td>0.037391</td>\n",
              "      <td>0.018645</td>\n",
              "      <td>1.0</td>\n",
              "    </tr>\n",
              "  </tbody>\n",
              "</table>\n",
              "</div>"
            ],
            "text/plain": [
              "   geoCluster       SKU     price  cityId\n",
              "0         0.0  0.037391  0.018645     1.0\n",
              "1         0.0  0.037391  0.018645     1.0\n",
              "2         0.0  0.037391  0.018645     1.0\n",
              "3         0.0  0.037391  0.018645     1.0\n",
              "4         0.0  0.037391  0.018645     1.0"
            ]
          },
          "metadata": {},
          "execution_count": 251
        }
      ]
    },
    {
      "cell_type": "code",
      "metadata": {
        "colab": {
          "base_uri": "https://localhost:8080/"
        },
        "id": "_hRIQ6th3ZH-",
        "outputId": "f349fbad-396d-4bba-b9d5-e23b988624fa"
      },
      "source": [
        "normalised_df['geoCluster'].value_counts"
      ],
      "execution_count": null,
      "outputs": [
        {
          "output_type": "execute_result",
          "data": {
            "text/plain": [
              "<bound method IndexOpsMixin.value_counts of 0          0.000000\n",
              "1          0.000000\n",
              "2          0.000000\n",
              "3          0.000000\n",
              "4          0.000000\n",
              "             ...   \n",
              "7263148    0.608601\n",
              "7263149    0.608601\n",
              "7263150    0.608601\n",
              "7263151    0.608601\n",
              "7263152    0.608601\n",
              "Name: geoCluster, Length: 7263153, dtype: float64>"
            ]
          },
          "metadata": {},
          "execution_count": 252
        }
      ]
    },
    {
      "cell_type": "code",
      "metadata": {
        "id": "nSQ8L-6m4eCQ"
      },
      "source": [
        "from sklearn.model_selection import train_test_split"
      ],
      "execution_count": null,
      "outputs": []
    },
    {
      "cell_type": "code",
      "metadata": {
        "id": "HuXwtbNQ5BKB"
      },
      "source": [
        "x_train, x_test, y_train, y_test = train_test_split(x, y, test_size=0.1)"
      ],
      "execution_count": null,
      "outputs": []
    },
    {
      "cell_type": "code",
      "metadata": {
        "id": "H7u9SzRY5a_1"
      },
      "source": [
        "from sklearn.linear_model import LinearRegression"
      ],
      "execution_count": null,
      "outputs": []
    },
    {
      "cell_type": "code",
      "metadata": {
        "id": "OrtWacqV7NgK"
      },
      "source": [
        "lr = LinearRegression()"
      ],
      "execution_count": null,
      "outputs": []
    },
    {
      "cell_type": "code",
      "metadata": {
        "colab": {
          "base_uri": "https://localhost:8080/"
        },
        "id": "AWmQtOn770BY",
        "outputId": "c55404ec-2d94-41b6-cde4-13ed1266f16f"
      },
      "source": [
        "lr.fit(x_train, y_train)"
      ],
      "execution_count": null,
      "outputs": [
        {
          "output_type": "execute_result",
          "data": {
            "text/plain": [
              "LinearRegression(copy_X=True, fit_intercept=True, n_jobs=None, normalize=False)"
            ]
          },
          "metadata": {},
          "execution_count": 257
        }
      ]
    },
    {
      "cell_type": "code",
      "metadata": {
        "id": "ywCtBrh075fN"
      },
      "source": [
        "prediction = lr.predict(x_test)"
      ],
      "execution_count": null,
      "outputs": []
    },
    {
      "cell_type": "code",
      "metadata": {
        "colab": {
          "base_uri": "https://localhost:8080/"
        },
        "id": "xgtvtW-w8AEZ",
        "outputId": "21baf622-bd72-453e-a033-8a970a3a8eb3"
      },
      "source": [
        "prediction"
      ],
      "execution_count": null,
      "outputs": [
        {
          "output_type": "execute_result",
          "data": {
            "text/plain": [
              "array([0.00891935, 0.00927721, 0.00667412, ..., 0.00844292, 0.00928366,\n",
              "       0.00901276])"
            ]
          },
          "metadata": {},
          "execution_count": 259
        }
      ]
    },
    {
      "cell_type": "code",
      "metadata": {
        "id": "jeEgUp8D8Brz"
      },
      "source": [
        "from sklearn.metrics import mean_absolute_error"
      ],
      "execution_count": null,
      "outputs": []
    },
    {
      "cell_type": "code",
      "metadata": {
        "colab": {
          "base_uri": "https://localhost:8080/"
        },
        "id": "8qcH0PcO8TP_",
        "outputId": "b0d45776-8c72-4649-d910-b988d2d5431d"
      },
      "source": [
        "mean_absolute_error(y_test, prediction)"
      ],
      "execution_count": null,
      "outputs": [
        {
          "output_type": "execute_result",
          "data": {
            "text/plain": [
              "0.0028982032210698506"
            ]
          },
          "metadata": {},
          "execution_count": 260
        }
      ]
    },
    {
      "cell_type": "code",
      "metadata": {
        "id": "TpTF-uV3AWMr"
      },
      "source": [
        ""
      ],
      "execution_count": null,
      "outputs": []
    },
    {
      "cell_type": "code",
      "metadata": {
        "id": "mlnlHuCW9WwG"
      },
      "source": [
        "# witjout normalising birh\n",
        "x1 = predict_df.drop(columns = ['sales'])\n",
        "y1 = predict_df['sales']"
      ],
      "execution_count": null,
      "outputs": []
    },
    {
      "cell_type": "code",
      "metadata": {
        "id": "jy-Vjzxg_CT2"
      },
      "source": [
        "x1_train, x1_test, y1_train, y1_test = train_test_split(x1, y1, test_size=0.2)"
      ],
      "execution_count": null,
      "outputs": []
    },
    {
      "cell_type": "code",
      "metadata": {
        "id": "Lvc268vm_MPk"
      },
      "source": [
        "lr1 = LinearRegression()"
      ],
      "execution_count": null,
      "outputs": []
    },
    {
      "cell_type": "code",
      "metadata": {
        "colab": {
          "base_uri": "https://localhost:8080/"
        },
        "id": "JSQKr91s_XOG",
        "outputId": "65a1f5ca-67d2-4563-9004-b1fc23334e21"
      },
      "source": [
        "lr1.fit(x1_train, y1_train)"
      ],
      "execution_count": null,
      "outputs": [
        {
          "output_type": "execute_result",
          "data": {
            "text/plain": [
              "LinearRegression(copy_X=True, fit_intercept=True, n_jobs=None, normalize=False)"
            ]
          },
          "metadata": {},
          "execution_count": 242
        }
      ]
    },
    {
      "cell_type": "code",
      "metadata": {
        "id": "0m_X-SCe_boR"
      },
      "source": [
        "prediction = lr1.predict(x1_test)"
      ],
      "execution_count": null,
      "outputs": []
    },
    {
      "cell_type": "code",
      "metadata": {
        "colab": {
          "base_uri": "https://localhost:8080/"
        },
        "id": "L6kCu4V4_kmc",
        "outputId": "cb2def25-0a85-4986-f770-820c035ee593"
      },
      "source": [
        "prediction"
      ],
      "execution_count": null,
      "outputs": [
        {
          "output_type": "execute_result",
          "data": {
            "text/plain": [
              "array([2.64163888, 2.59237249, 2.85983128, ..., 2.599684  , 2.93355838,\n",
              "       2.56617475])"
            ]
          },
          "metadata": {},
          "execution_count": 244
        }
      ]
    },
    {
      "cell_type": "code",
      "metadata": {
        "colab": {
          "base_uri": "https://localhost:8080/"
        },
        "id": "on5rffZ7_maW",
        "outputId": "091a26e3-e0c4-4e3e-c28d-6e2c38365feb"
      },
      "source": [
        "mean_absolute_error(y1_test, prediction)"
      ],
      "execution_count": null,
      "outputs": [
        {
          "output_type": "execute_result",
          "data": {
            "text/plain": [
              "0.8964820682569595"
            ]
          },
          "metadata": {},
          "execution_count": 245
        }
      ]
    },
    {
      "cell_type": "code",
      "metadata": {
        "id": "s2e44k8N_s7V"
      },
      "source": [
        ""
      ],
      "execution_count": null,
      "outputs": []
    }
  ]
}